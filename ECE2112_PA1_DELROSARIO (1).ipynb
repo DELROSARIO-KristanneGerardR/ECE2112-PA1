{
 "cells": [
  {
   "cell_type": "code",
   "execution_count": 1,
   "id": "a505f405-8172-4169-b9f9-983a83e2e90a",
   "metadata": {},
   "outputs": [
    {
     "name": "stdin",
     "output_type": "stream",
     "text": [
      "Enter a string:  hello\n"
     ]
    },
    {
     "name": "stdout",
     "output_type": "stream",
     "text": [
      "Sorted string:  ehllo\n"
     ]
    }
   ],
   "source": [
    "def alphabet_soup(text):\n",
    "    return ''.join(sorted(text.lower()))\n",
    "\n",
    "# Take user input\n",
    "user_input=input(\"Enter a string: \")\n",
    "print(\"Sorted string: \", alphabet_soup(user_input))"
   ]
  },
  {
   "cell_type": "code",
   "execution_count": 2,
   "id": "4155438e-c1c9-4e7b-8f18-662068f950dc",
   "metadata": {},
   "outputs": [
    {
     "name": "stdout",
     "output_type": "stream",
     "text": [
      "Converted:  I am :( when you are >:( but :) when you :D.\n"
     ]
    }
   ],
   "source": [
    "def emotify(sentence):\n",
    "    # Check each keyword and replace it with its emoticon\n",
    "    if \"smile\" in sentence.lower():\n",
    "        sentence=sentence.replace(\"smile\", \":)\")\n",
    "    if \"grin\" in sentence.lower():\n",
    "        sentence=sentence.replace(\"grin\", \":D\")\n",
    "    if \"sad\" in sentence.lower():\n",
    "        sentence=sentence.replace(\"sad\", \":(\")\n",
    "    if \"mad\" in sentence.lower():\n",
    "        sentence=sentence.replace(\"mad\", \">:(\")\n",
    "    return sentence\n",
    "\n",
    "given_sentence= \"I am sad when you are mad but smile when you grin.\"\n",
    "print(\"Converted: \", emotify(given_sentence))"
   ]
  },
  {
   "cell_type": "code",
   "execution_count": 3,
   "id": "1a9f9374-fa87-4f87-b9e8-3e9681cedd23",
   "metadata": {},
   "outputs": [
    {
     "name": "stdout",
     "output_type": "stream",
     "text": [
      "first:  1\n",
      "middle:  [2, 3, 4, 5]\n",
      "last:  6\n"
     ]
    }
   ],
   "source": [
    "# Define a list\n",
    "list=[1,2,3,4,5,6]\n",
    "\n",
    "# Unpack the list\n",
    "first, *middle, last=list\n",
    "\n",
    "# Print results\n",
    "print(\"first: \", first)\n",
    "print(\"middle: \", middle)\n",
    "print(\"last: \", last)"
   ]
  },
  {
   "cell_type": "code",
   "execution_count": null,
   "id": "7afa5933-ed84-40e5-907e-e6d9fbe9f6ca",
   "metadata": {},
   "outputs": [],
   "source": []
  }
 ],
 "metadata": {
  "kernelspec": {
   "display_name": "Python [conda env:base] *",
   "language": "python",
   "name": "conda-base-py"
  },
  "language_info": {
   "codemirror_mode": {
    "name": "ipython",
    "version": 3
   },
   "file_extension": ".py",
   "mimetype": "text/x-python",
   "name": "python",
   "nbconvert_exporter": "python",
   "pygments_lexer": "ipython3",
   "version": "3.13.5"
  }
 },
 "nbformat": 4,
 "nbformat_minor": 5
}
