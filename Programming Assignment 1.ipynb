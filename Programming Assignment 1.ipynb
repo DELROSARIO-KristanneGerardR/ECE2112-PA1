{
 "cells": [
  {
   "cell_type": "code",
   "execution_count": 8,
   "id": "a505f405-8172-4169-b9f9-983a83e2e90a",
   "metadata": {},
   "outputs": [
    {
     "name": "stdin",
     "output_type": "stream",
     "text": [
      "Enter a string:  wwjgbnasouubnawoi\n"
     ]
    },
    {
     "name": "stdout",
     "output_type": "stream",
     "text": [
      "Sorted string:  aabbgijnnoosuuwww\n"
     ]
    }
   ],
   "source": [
    "def alphabet_soup(text):\n",
    "    return ''.join(sorted(text))\n",
    "\n",
    "# Take user input\n",
    "user_input=input(\"Enter a string: \")\n",
    "print(\"Sorted string: \", alphabet_soup(user_input))"
   ]
  },
  {
   "cell_type": "code",
   "execution_count": 12,
   "id": "4155438e-c1c9-4e7b-8f18-662068f950dc",
   "metadata": {},
   "outputs": [
    {
     "name": "stdin",
     "output_type": "stream",
     "text": [
      "Enter a sentence:  i am smile and sad\n"
     ]
    },
    {
     "name": "stdout",
     "output_type": "stream",
     "text": [
      "Converted:  i am :) and :(\n"
     ]
    }
   ],
   "source": [
    "def emotify(sentence):\n",
    "    # Check each keyword and replace it with its emoticon\n",
    "    if \"smile\" in sentence.lower():\n",
    "        sentence=sentence.replace(\"smile\", \":)\")\n",
    "    if \"grin\" in sentence.lower():\n",
    "        sentence=sentence.replace(\"grin\", \":D\")\n",
    "    if \"sad\" in sentence.lower():\n",
    "        sentence=sentence.replace(\"sad\", \":(\")\n",
    "    if \"mad\" in sentence.lower():\n",
    "        sentence=sentence.replace(\"mad\", \">:(\")\n",
    "    return sentence\n",
    "\n",
    "# Take user input\n",
    "user_input=input(\"Enter a sentence: \")\n",
    "print(\"Converted: \", emotify(user_input))"
   ]
  },
  {
   "cell_type": "code",
   "execution_count": 15,
   "id": "1a9f9374-fa87-4f87-b9e8-3e9681cedd23",
   "metadata": {},
   "outputs": [
    {
     "name": "stdin",
     "output_type": "stream",
     "text": [
      "Enter numbers separated by spaces:  1 2 3 4 5 6 \n"
     ]
    },
    {
     "name": "stdout",
     "output_type": "stream",
     "text": [
      "first:  1\n",
      "middle:  [2, 3, 4, 5]\n",
      "last 6\n"
     ]
    }
   ],
   "source": [
    "# Take user input as a string\n",
    "user_input = input(\"Enter numbers separated by spaces: \")\n",
    "\n",
    "# Split the input into individual strings\n",
    "split_input = user_input.split()\n",
    "\n",
    "# Convert each string to an integer manually\n",
    "lst=[]\n",
    "for num in split_input:\n",
    "    lst.append(int(num))\n",
    "\n",
    "# Unpack the list\n",
    "first, *middle, last = lst\n",
    "\n",
    "# Print results\n",
    "print(\"first: \", first)\n",
    "print(\"middle: \", middle)\n",
    "print(\"last\", last)"
   ]
  },
  {
   "cell_type": "code",
   "execution_count": null,
   "id": "7afa5933-ed84-40e5-907e-e6d9fbe9f6ca",
   "metadata": {},
   "outputs": [],
   "source": []
  }
 ],
 "metadata": {
  "kernelspec": {
   "display_name": "Python [conda env:base] *",
   "language": "python",
   "name": "conda-base-py"
  },
  "language_info": {
   "codemirror_mode": {
    "name": "ipython",
    "version": 3
   },
   "file_extension": ".py",
   "mimetype": "text/x-python",
   "name": "python",
   "nbconvert_exporter": "python",
   "pygments_lexer": "ipython3",
   "version": "3.13.5"
  }
 },
 "nbformat": 4,
 "nbformat_minor": 5
}
